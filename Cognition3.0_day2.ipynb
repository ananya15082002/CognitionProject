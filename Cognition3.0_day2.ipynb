{
  "cells": [
    {
      "cell_type": "markdown",
      "metadata": {
        "id": "S14AMqJ-axYb"
      },
      "source": [
        "# Cognition 3.O\n",
        "# Project Overview - Traffic Density Classification\n",
        "### Week 5 - Project Continuation\n"
      ]
    },
    {
      "cell_type": "markdown",
      "metadata": {},
      "source": [
        "Images of traffic at different times and locations have been successfully preprocessed and has been saved.\n",
        "The goal is now  to build a model which can learn all the patterns and be able to classify the density of traffic into different categories (e.g.,empty, low, medium, high, traffic jam)."
      ]
    },
    {
      "cell_type": "markdown",
      "metadata": {},
      "source": [
        "###  Why CNN MODEL?\n",
        "Convolutional Neural Networks (CNNs) have the ability to automatically learn and extract important features from images. For example, in the early layers, CNNs might learn to detect edges and simple shapes. As we go deeper into the network, it starts identifying more complex patterns like textures and object parts. This automatic feature extraction makes CNNs extremely powerful for image-related tasks because it eliminates the need for manual feature engineering.\n",
        "\n",
        "\n",
        "![cnndemo](cnndemo.gif)\n",
        "\n",
        "\n",
        "![cnn](cnn.png)\n"
      ]
    },
    {
      "cell_type": "markdown",
      "metadata": {},
      "source": [
        "#### Parameter Sharing\n",
        "In CNNs, the same set of weights is used across different parts of the image. This concept is known as parameter sharing. It helps in reducing the number of parameters, which in turn reduces the computational load and the risk of overfitting. Since the same filters are applied to various regions of the image, the network can effectively learn features that are spatially invariant, meaning it can recognize patterns regardless of their position in the image.\n"
      ]
    },
    {
      "cell_type": "markdown",
      "metadata": {},
      "source": [
        "#### Local Connectivity\n",
        "CNNs are designed to take advantage of the local spatial structure of images. Each neuron in a convolutional layer is only connected to a small region of the input image, known as the receptive field. This local connectivity ensures that the network focuses on small, localized patterns in the image, such as edges or textures. By stacking multiple convolutional layers, CNNs can gradually capture more complex patterns and spatial hierarchies, leading to better image understanding and classification.\n"
      ]
    },
    {
      "cell_type": "markdown",
      "metadata": {},
      "source": [
        "##### Step 1: Importing libraries\n",
        "\n",
        "First, we need to import the necessary libraries from TensorFlow and Keras. \n",
        "These libraries provide tools for building and training our CNN model."
      ]
    },
    {
      "cell_type": "markdown",
      "metadata": {},
      "source": [
        "- **`import tensorflow as tf`**: TensorFlow is an open-source deep learning framework. We import it with the alias `tf` to simplify our code.\n",
        "- **`from tensorflow.keras.models import Sequential`**: Sequential is a linear stack of layers in Keras, which allows us to build our model layer by layer.\n",
        "- **`from tensorflow.keras.layers import Conv2D, MaxPooling2D, Flatten, Dense, Dropout`**: These are the different types of layers we will use in our CNN model:\n",
        "  - **Conv2D**: Convolutional layer for feature extraction. It applies convolution operations to the input image, capturing spatial hierarchies and patterns.\n",
        "  - **MaxPooling2D**: Max-pooling layer for down-sampling. It reduces the dimensionality of the feature maps, keeping the most important information.\n",
        "  - **Flatten**: Flattens the input to a 1D array. It converts the 2D feature maps into a 1D vector, which can be fed into fully connected layers.\n",
        "  - **Dense**: Fully connected layer. It connects every neuron in one layer to every neuron in the next layer, often used for classification.\n",
        "  - **Dropout**: Dropout layer for regularization. It randomly sets a fraction of input units to 0 at each update during training to prevent overfitting.\n",
        "- **`from tensorflow.keras.preprocessing.image import ImageDataGenerator`**: This class provides functions for real-time data augmentation, which helps in generating batches of image data with various transformations. Data augmentation techniques include rescaling, shearing, zooming, and flipping, which improve the robustness and generalization of the model."
      ]
    },
    {
      "cell_type": "code",
      "execution_count": 9,
      "metadata": {},
      "outputs": [],
      "source": [
        "import tensorflow as tf\n",
        "from tensorflow.keras.models import Sequential # type: ignore\n",
        "from tensorflow.keras.layers import Conv2D, MaxPooling2D, Flatten, Dense, Dropout # type: ignore\n",
        "from tensorflow.keras.preprocessing.image import ImageDataGenerator # type: ignore\n",
        "import matplotlib.pyplot as plt\n"
      ]
    },
    {
      "cell_type": "markdown",
      "metadata": {},
      "source": [
        "#### Step 2: Loading the Preprocessed Dataset"
      ]
    },
    {
      "cell_type": "code",
      "execution_count": 12,
      "metadata": {},
      "outputs": [
        {
          "name": "stdout",
          "output_type": "stream",
          "text": [
            "Found 3659 images belonging to 5 classes.\n"
          ]
        }
      ],
      "source": [
        "# Define the base directory\n",
        "base_dir = 'C:/Users/asus/Desktop/cognition/preprocessed-dataset'  #Change the path to your directory where it's been saved\n",
        "\n",
        "# Define the classes\n",
        "classes = ['Empty', 'High', 'Low', 'Medium', 'Traffic Jam']\n",
        "\n",
        "# Create ImageDataGenerator instance\n",
        "datagen = ImageDataGenerator(rescale=1./255)  # No validation split, using whole dataset for training\n",
        "\n",
        "# Load images from directory\n",
        "train_generator = datagen.flow_from_directory(\n",
        "    base_dir,\n",
        "    target_size=(224, 224),  # Update the target size to match the preprocessing size\n",
        "    batch_size=20,\n",
        "    class_mode='categorical'\n",
        ")\n",
        "\n"
      ]
    },
    {
      "cell_type": "markdown",
      "metadata": {},
      "source": [
        "#### Loading the Test Dataset from the main directory "
      ]
    },
    {
      "cell_type": "code",
      "execution_count": 13,
      "metadata": {},
      "outputs": [
        {
          "name": "stdout",
          "output_type": "stream",
          "text": [
            "Found 320 images belonging to 5 classes.\n"
          ]
        }
      ],
      "source": [
        "# Define the testing directory\n",
        "test_dir = 'C:/Users/asus/Desktop/cognition/dataset/testing'\n",
        "\n",
        "# Create ImageDataGenerator instance for testing\n",
        "test_datagen = ImageDataGenerator(rescale=1./255)\n",
        "\n",
        "# Load images from directory\n",
        "test_generator = test_datagen.flow_from_directory(\n",
        "    test_dir,\n",
        "    target_size=(224, 224),  # Update the target size to match the preprocessing size\n",
        "    batch_size=20,\n",
        "    class_mode='categorical'\n",
        ")\n"
      ]
    },
    {
      "cell_type": "markdown",
      "metadata": {},
      "source": [
        "#### Step 3: Define the CNN Model"
      ]
    },
    {
      "cell_type": "markdown",
      "metadata": {},
      "source": [
        "## Defining and Compiling the CNN Model\n",
        "\n",
        "### Model Architecture\n",
        "\n",
        "1. **Input Layer**:\n",
        "   - The input layer is defined with `tf.keras.Input(shape=(224, 224, 3))`, which specifies the input shape of the images. The shape `(224, 224, 3)` indicates that the input images are of size 224x224 pixels with 3 color channels (RGB).\n",
        "\n",
        "2. **First Convolutional Layer**:\n",
        "   - The first convolutional layer is a `Conv2D` layer with 32 filters, each of size 3x3. The ReLU (Rectified Linear Unit) activation function is used to introduce non-linearity to the model, allowing it to learn more complex patterns.\n",
        "\n",
        "3. **First Max-Pooling Layer**:\n",
        "   - This layer is a `MaxPooling2D` layer with a 2x2 filter, which reduces the spatial dimensions of the feature maps by taking the maximum value in each 2x2 block. This helps in reducing the computational cost and controlling overfitting.\n",
        "\n",
        "4. **Second Convolutional Layer**:\n",
        "   - The second convolutional layer is a `Conv2D` layer with 64 filters, each of size 3x3. The ReLU activation function is used again to introduce non-linearity.\n",
        "\n",
        "5. **Second Max-Pooling Layer**:\n",
        "   - This is another `MaxPooling2D` layer with a 2x2 filter to further reduce the spatial dimensions of the feature maps.\n",
        "\n",
        "6. **Third Convolutional Layer**:\n",
        "   - The third convolutional layer is a `Conv2D` layer with 128 filters, each of size 3x3. The ReLU activation function is used once more to introduce non-linearity.\n",
        "\n",
        "7. **Third Max-Pooling Layer**:\n",
        "   - This is another `MaxPooling2D` layer with a 2x2 filter to further reduce the spatial dimensions of the feature maps.\n",
        "\n",
        "8. **Flatten Layer**:\n",
        "   - The `Flatten` layer flattens the 2D feature maps into a 1D vector. This is necessary to connect the convolutional layers with the dense (fully connected) layers.\n",
        "\n",
        "9. **First Dense Layer**:\n",
        "   - The first dense layer is a `Dense` layer with 512 neurons and the ReLU activation function to introduce non-linearity.\n",
        "\n",
        "10. **Dropout Layer**:\n",
        "    - The `Dropout` layer randomly sets 50% of the input units to 0 at each update during training, which helps in preventing overfitting.\n",
        "\n",
        "11. **Output Layer**:\n",
        "    - The output layer is a `Dense` layer with a number of neurons equal to the number of classes (defined by `len(classes)`). The softmax activation function is used, which converts the output to a probability distribution over the classes.\n",
        "\n",
        "### Model Compilation\n",
        "\n",
        "1. **Optimizer**:\n",
        "   - The Adam optimizer (`optimizer='adam'`) is chosen for training the model. Adam is an adaptive learning rate optimization algorithm that combines the best properties of the AdaGrad and RMSProp algorithms to provide an optimization algorithm that can handle sparse gradients on noisy problems.\n",
        "\n",
        "2. **Loss Function**:\n",
        "   - The categorical crossentropy loss function (`loss='categorical_crossentropy'`) is used, which is suitable for multi-class classification problems where the target variable is one-hot encoded. This function calculates the difference between the true labels and the predicted probabilities, helping to minimize the prediction error during training.\n",
        "\n",
        "3. **Metrics**:\n",
        "   - The accuracy metric (`metrics=['accuracy']`) is used to evaluate the model's performance during training and testing. Accuracy is the ratio of correctly predicted instances to the total instances.\n",
        "\n",
        "### How the Model Works\n",
        "\n",
        "- **Convolutional Layers**: These layers perform convolution operations on the input image, capturing spatial hierarchies and patterns. Each convolutional layer is followed by a ReLU activation function to introduce non-linearity.\n",
        "- **Max-Pooling Layers**: These layers down-sample the feature maps, reducing their spatial dimensions while retaining the most important information. This helps in reducing the computational cost and controlling overfitting.\n",
        "- **Flatten Layer**: This layer flattens the 2D feature maps into a 1D vector, which can then be fed into fully connected (dense) layers.\n",
        "- **Dense Layers**: These layers are fully connected layers that learn to map the flattened feature vector to the final output classes. The first dense layer has 512 neurons and uses ReLU activation, while the output layer uses softmax activation to produce a probability distribution over the classes.\n",
        "- **Dropout Layer**: This layer helps in preventing overfitting by randomly setting a fraction of the input units to 0 at each update during training.\n",
        "- **Compilation**: The model is compiled with the Adam optimizer, categorical crossentropy loss function, and accuracy metric. The optimizer adjusts the learning rate during training to minimize the loss function, while the accuracy metric evaluates the model's performance.\n",
        "\n",
        "All in all, the CNN model is designed to efficiently capture and learn the spatial hierarchies in the input images, classify them into predefined classes, and provide accurate predictions with the help of convolutional, max-pooling, flatten, dense, and dropout layers. The model is compiled with appropriate optimization and evaluation parameters to ensure effective training and performance.\n"
      ]
    },
    {
      "cell_type": "code",
      "execution_count": 14,
      "metadata": {},
      "outputs": [],
      "source": [
        "# Define the CNN model\n",
        "model = Sequential([\n",
        "    tf.keras.Input(shape=(224, 224, 3)),  # according to input output size\n",
        "    Conv2D(32, (3, 3), activation='relu'),\n",
        "    MaxPooling2D(2, 2),\n",
        "    Conv2D(64, (3, 3), activation='relu'),\n",
        "    MaxPooling2D(2, 2),\n",
        "    Conv2D(128, (3, 3), activation='relu'),\n",
        "    MaxPooling2D(2, 2),\n",
        "    Flatten(),\n",
        "    Dense(512, activation='relu'),\n",
        "    Dropout(0.5),\n",
        "    Dense(len(classes), activation='softmax')\n",
        "])\n",
        "\n",
        "# Compile the model\n",
        "model.compile(optimizer='adam',loss='categorical_crossentropy',metrics=['accuracy'])\n"
      ]
    },
    {
      "cell_type": "markdown",
      "metadata": {},
      "source": [
        "#### Step 4: Train the Model"
      ]
    },
    {
      "cell_type": "code",
      "execution_count": 15,
      "metadata": {},
      "outputs": [
        {
          "name": "stdout",
          "output_type": "stream",
          "text": [
            "Epoch 1/20\n"
          ]
        },
        {
          "name": "stderr",
          "output_type": "stream",
          "text": [
            "c:\\Users\\asus\\AppData\\Local\\Programs\\Python\\Python312\\Lib\\site-packages\\keras\\src\\trainers\\data_adapters\\py_dataset_adapter.py:121: UserWarning: Your `PyDataset` class should call `super().__init__(**kwargs)` in its constructor. `**kwargs` can include `workers`, `use_multiprocessing`, `max_queue_size`. Do not pass these arguments to `fit()`, as they will be ignored.\n",
            "  self._warn_if_super_not_called()\n"
          ]
        },
        {
          "name": "stdout",
          "output_type": "stream",
          "text": [
            "\u001b[1m182/182\u001b[0m \u001b[32m━━━━━━━━━━━━━━━━━━━━\u001b[0m\u001b[37m\u001b[0m \u001b[1m169s\u001b[0m 908ms/step - accuracy: 0.4720 - loss: 1.5015\n",
            "Epoch 2/20\n",
            "\u001b[1m182/182\u001b[0m \u001b[32m━━━━━━━━━━━━━━━━━━━━\u001b[0m\u001b[37m\u001b[0m \u001b[1m1s\u001b[0m 605us/step - accuracy: 0.7500 - loss: 0.5950  \n",
            "Epoch 3/20\n"
          ]
        },
        {
          "name": "stderr",
          "output_type": "stream",
          "text": [
            "c:\\Users\\asus\\AppData\\Local\\Programs\\Python\\Python312\\Lib\\contextlib.py:158: UserWarning: Your input ran out of data; interrupting training. Make sure that your dataset or generator can generate at least `steps_per_epoch * epochs` batches. You may need to use the `.repeat()` function when building your dataset.\n",
            "  self.gen.throw(value)\n"
          ]
        },
        {
          "name": "stdout",
          "output_type": "stream",
          "text": [
            "\u001b[1m182/182\u001b[0m \u001b[32m━━━━━━━━━━━━━━━━━━━━\u001b[0m\u001b[37m\u001b[0m \u001b[1m144s\u001b[0m 786ms/step - accuracy: 0.7043 - loss: 0.7377\n",
            "Epoch 4/20\n",
            "\u001b[1m182/182\u001b[0m \u001b[32m━━━━━━━━━━━━━━━━━━━━\u001b[0m\u001b[37m\u001b[0m \u001b[1m1s\u001b[0m 10us/step - accuracy: 0.7500 - loss: 0.7695   \n",
            "Epoch 5/20\n",
            "\u001b[1m182/182\u001b[0m \u001b[32m━━━━━━━━━━━━━━━━━━━━\u001b[0m\u001b[37m\u001b[0m \u001b[1m142s\u001b[0m 776ms/step - accuracy: 0.7600 - loss: 0.5943\n",
            "Epoch 6/20\n",
            "\u001b[1m182/182\u001b[0m \u001b[32m━━━━━━━━━━━━━━━━━━━━\u001b[0m\u001b[37m\u001b[0m \u001b[1m1s\u001b[0m 91us/step - accuracy: 0.8500 - loss: 0.4754   \n",
            "Epoch 7/20\n",
            "\u001b[1m182/182\u001b[0m \u001b[32m━━━━━━━━━━━━━━━━━━━━\u001b[0m\u001b[37m\u001b[0m \u001b[1m144s\u001b[0m 787ms/step - accuracy: 0.7956 - loss: 0.4970\n",
            "Epoch 8/20\n",
            "\u001b[1m182/182\u001b[0m \u001b[32m━━━━━━━━━━━━━━━━━━━━\u001b[0m\u001b[37m\u001b[0m \u001b[1m1s\u001b[0m 115us/step - accuracy: 0.8500 - loss: 0.4253  \n",
            "Epoch 9/20\n",
            "\u001b[1m182/182\u001b[0m \u001b[32m━━━━━━━━━━━━━━━━━━━━\u001b[0m\u001b[37m\u001b[0m \u001b[1m134s\u001b[0m 733ms/step - accuracy: 0.8295 - loss: 0.4390\n",
            "Epoch 10/20\n",
            "\u001b[1m182/182\u001b[0m \u001b[32m━━━━━━━━━━━━━━━━━━━━\u001b[0m\u001b[37m\u001b[0m \u001b[1m1s\u001b[0m 285us/step - accuracy: 0.8500 - loss: 0.3279  \n",
            "Epoch 11/20\n",
            "\u001b[1m182/182\u001b[0m \u001b[32m━━━━━━━━━━━━━━━━━━━━\u001b[0m\u001b[37m\u001b[0m \u001b[1m135s\u001b[0m 737ms/step - accuracy: 0.8662 - loss: 0.3377\n",
            "Epoch 12/20\n",
            "\u001b[1m182/182\u001b[0m \u001b[32m━━━━━━━━━━━━━━━━━━━━\u001b[0m\u001b[37m\u001b[0m \u001b[1m1s\u001b[0m 185us/step - accuracy: 0.8500 - loss: 0.1873  \n",
            "Epoch 13/20\n",
            "\u001b[1m182/182\u001b[0m \u001b[32m━━━━━━━━━━━━━━━━━━━━\u001b[0m\u001b[37m\u001b[0m \u001b[1m138s\u001b[0m 757ms/step - accuracy: 0.9024 - loss: 0.2730\n",
            "Epoch 14/20\n",
            "\u001b[1m182/182\u001b[0m \u001b[32m━━━━━━━━━━━━━━━━━━━━\u001b[0m\u001b[37m\u001b[0m \u001b[1m1s\u001b[0m 0s/step - accuracy: 0.9000 - loss: 0.3182     \n",
            "Epoch 15/20\n",
            "\u001b[1m182/182\u001b[0m \u001b[32m━━━━━━━━━━━━━━━━━━━━\u001b[0m\u001b[37m\u001b[0m \u001b[1m132s\u001b[0m 724ms/step - accuracy: 0.9166 - loss: 0.2335\n",
            "Epoch 16/20\n",
            "\u001b[1m182/182\u001b[0m \u001b[32m━━━━━━━━━━━━━━━━━━━━\u001b[0m\u001b[37m\u001b[0m \u001b[1m1s\u001b[0m 56us/step - accuracy: 1.0000 - loss: 0.0698   \n",
            "Epoch 17/20\n",
            "\u001b[1m182/182\u001b[0m \u001b[32m━━━━━━━━━━━━━━━━━━━━\u001b[0m\u001b[37m\u001b[0m \u001b[1m141s\u001b[0m 773ms/step - accuracy: 0.9439 - loss: 0.1564\n",
            "Epoch 18/20\n",
            "\u001b[1m182/182\u001b[0m \u001b[32m━━━━━━━━━━━━━━━━━━━━\u001b[0m\u001b[37m\u001b[0m \u001b[1m1s\u001b[0m 831us/step - accuracy: 0.9500 - loss: 0.1664  \n",
            "Epoch 19/20\n",
            "\u001b[1m182/182\u001b[0m \u001b[32m━━━━━━━━━━━━━━━━━━━━\u001b[0m\u001b[37m\u001b[0m \u001b[1m131s\u001b[0m 716ms/step - accuracy: 0.9585 - loss: 0.1183\n",
            "Epoch 20/20\n",
            "\u001b[1m182/182\u001b[0m \u001b[32m━━━━━━━━━━━━━━━━━━━━\u001b[0m\u001b[37m\u001b[0m \u001b[1m1s\u001b[0m 177us/step - accuracy: 1.0000 - loss: 0.1243  \n"
          ]
        }
      ],
      "source": [
        "# Train the model\n",
        "history = model.fit(\n",
        "    train_generator,\n",
        "    steps_per_epoch=train_generator.samples // train_generator.batch_size,\n",
        "    epochs=20\n",
        ")\n"
      ]
    },
    {
      "cell_type": "markdown",
      "metadata": {},
      "source": [
        "#### Step 5: Evaluating the Model on Training Dataset"
      ]
    },
    {
      "cell_type": "code",
      "execution_count": 16,
      "metadata": {},
      "outputs": [
        {
          "name": "stdout",
          "output_type": "stream",
          "text": [
            "\u001b[1m183/183\u001b[0m \u001b[32m━━━━━━━━━━━━━━━━━━━━\u001b[0m\u001b[37m\u001b[0m \u001b[1m25s\u001b[0m 132ms/step - accuracy: 0.9797 - loss: 0.0930\n",
            "Training Loss: 0.09392944723367691\n",
            "Training Accuracy: 0.9789559841156006\n"
          ]
        }
      ],
      "source": [
        "# Evaluate the model on training data\n",
        "train_evaluation = model.evaluate(train_generator)\n",
        "print(f\"Training Loss: {train_evaluation[0]}\")\n",
        "print(f\"Training Accuracy: {train_evaluation[1]}\")\n"
      ]
    },
    {
      "cell_type": "markdown",
      "metadata": {},
      "source": [
        "#### Step 6: Evaluating the Model on Test Dataset"
      ]
    },
    {
      "cell_type": "code",
      "execution_count": 17,
      "metadata": {},
      "outputs": [
        {
          "name": "stdout",
          "output_type": "stream",
          "text": [
            "\u001b[1m16/16\u001b[0m \u001b[32m━━━━━━━━━━━━━━━━━━━━\u001b[0m\u001b[37m\u001b[0m \u001b[1m5s\u001b[0m 329ms/step - accuracy: 0.9774 - loss: 0.1153\n",
            "Test Loss: 0.10179203748703003\n",
            "Test Accuracy: 0.981249988079071\n"
          ]
        }
      ],
      "source": [
        "# Evaluate the model\n",
        "test_evaluation = model.evaluate(test_generator)\n",
        "print(f\"Test Loss: {test_evaluation[0]}\")\n",
        "print(f\"Test Accuracy: {test_evaluation[1]}\")\n"
      ]
    },
    {
      "cell_type": "markdown",
      "metadata": {},
      "source": [
        "#### Step 7: Visualizing Performance"
      ]
    },
    {
      "cell_type": "code",
      "execution_count": 18,
      "metadata": {},
      "outputs": [
        {
          "data": {
            "image/png": "[encoded data removed]",
            "text/plain": [
              "<Figure size 1200x600 with 2 Axes>"
            ]
          },
          "metadata": {},
          "output_type": "display_data"
        }
      ],
      "source": [
        "# Plot training accuracy and loss values\n",
        "plt.figure(figsize=(12, 6))\n",
        "\n",
        "plt.subplot(1, 2, 1)\n",
        "plt.plot(history.history['accuracy'], label='Training Accuracy')\n",
        "plt.title('Model Accuracy')\n",
        "plt.xlabel('Epoch')\n",
        "plt.ylabel('Accuracy')\n",
        "plt.legend(loc='lower right')\n",
        "\n",
        "plt.subplot(1, 2, 2)\n",
        "plt.plot(history.history['loss'], label='Training Loss')\n",
        "plt.title('Model Loss')\n",
        "plt.xlabel('Epoch')\n",
        "plt.ylabel('Loss')\n",
        "plt.legend(loc='upper right')\n",
        "\n",
        "plt.show()"
      ]
    },
    {
      "cell_type": "markdown",
      "metadata": {},
      "source": [
        "#### Step 8: Saving the Model"
      ]
    },
    {
      "cell_type": "code",
      "execution_count": 3,
      "metadata": {},
      "outputs": [
        {
          "name": "stdout",
          "output_type": "stream",
          "text": [
            "Model saved to traffic_density_cnn_model.keras\n"
          ]
        }
      ],
      "source": [
        "# Save the model in the recommended Keras format\n",
        "model.save('traffic_density_cnn_model.keras') # type: ignore\n",
        "print(\"Model saved to traffic_density_cnn_model.keras\")\n",
        "\n"
      ]
    },
    {
      "cell_type": "markdown",
      "metadata": {},
      "source": [
        "# Visualising and Validating "
      ]
    },
    {
      "cell_type": "code",
      "execution_count": 19,
      "metadata": {},
      "outputs": [
        {
          "name": "stdout",
          "output_type": "stream",
          "text": [
            "Requirement already satisfied: tensorflow in c:\\users\\asus\\appdata\\local\\programs\\python\\python312\\lib\\site-packages (2.16.2)Note: you may need to restart the kernel to use updated packages.\n"
          ]
        },
        {
          "name": "stderr",
          "output_type": "stream",
          "text": [
            "\n",
            "[notice] A new release of pip is available: 24.0 -> 24.1.1\n",
            "[notice] To update, run: python.exe -m pip install --upgrade pip\n"
          ]
        },
        {
          "name": "stdout",
          "output_type": "stream",
          "text": [
            "\n",
            "Requirement already satisfied: keras in c:\\users\\asus\\appdata\\local\\programs\\python\\python312\\lib\\site-packages (3.4.1)\n",
            "Requirement already satisfied: pillow in c:\\users\\asus\\appdata\\local\\programs\\python\\python312\\lib\\site-packages (10.4.0)\n",
            "Requirement already satisfied: opencv-python-headless in c:\\users\\asus\\appdata\\local\\programs\\python\\python312\\lib\\site-packages (4.10.0.84)\n",
            "Requirement already satisfied: numpy in c:\\users\\asus\\appdata\\local\\programs\\python\\python312\\lib\\site-packages (1.26.4)\n",
            "Requirement already satisfied: matplotlib in c:\\users\\asus\\appdata\\local\\programs\\python\\python312\\lib\\site-packages (3.9.1)\n",
            "Requirement already satisfied: tensorflow-intel==2.16.2 in c:\\users\\asus\\appdata\\local\\programs\\python\\python312\\lib\\site-packages (from tensorflow) (2.16.2)\n",
            "Requirement already satisfied: absl-py>=1.0.0 in c:\\users\\asus\\appdata\\local\\programs\\python\\python312\\lib\\site-packages (from tensorflow-intel==2.16.2->tensorflow) (2.1.0)\n",
            "Requirement already satisfied: astunparse>=1.6.0 in c:\\users\\asus\\appdata\\local\\programs\\python\\python312\\lib\\site-packages (from tensorflow-intel==2.16.2->tensorflow) (1.6.3)\n",
            "Requirement already satisfied: flatbuffers>=23.5.26 in c:\\users\\asus\\appdata\\local\\programs\\python\\python312\\lib\\site-packages (from tensorflow-intel==2.16.2->tensorflow) (24.3.25)\n",
            "Requirement already satisfied: gast!=0.5.0,!=0.5.1,!=0.5.2,>=0.2.1 in c:\\users\\asus\\appdata\\local\\programs\\python\\python312\\lib\\site-packages (from tensorflow-intel==2.16.2->tensorflow) (0.6.0)\n",
            "Requirement already satisfied: google-pasta>=0.1.1 in c:\\users\\asus\\appdata\\local\\programs\\python\\python312\\lib\\site-packages (from tensorflow-intel==2.16.2->tensorflow) (0.2.0)\n",
            "Requirement already satisfied: h5py>=3.10.0 in c:\\users\\asus\\appdata\\local\\programs\\python\\python312\\lib\\site-packages (from tensorflow-intel==2.16.2->tensorflow) (3.11.0)\n",
            "Requirement already satisfied: libclang>=13.0.0 in c:\\users\\asus\\appdata\\local\\programs\\python\\python312\\lib\\site-packages (from tensorflow-intel==2.16.2->tensorflow) (18.1.1)\n",
            "Requirement already satisfied: ml-dtypes~=0.3.1 in c:\\users\\asus\\appdata\\local\\programs\\python\\python312\\lib\\site-packages (from tensorflow-intel==2.16.2->tensorflow) (0.3.2)\n",
            "Requirement already satisfied: opt-einsum>=2.3.2 in c:\\users\\asus\\appdata\\local\\programs\\python\\python312\\lib\\site-packages (from tensorflow-intel==2.16.2->tensorflow) (3.3.0)\n",
            "Requirement already satisfied: packaging in c:\\users\\asus\\appdata\\local\\programs\\python\\python312\\lib\\site-packages (from tensorflow-intel==2.16.2->tensorflow) (24.1)\n",
            "Requirement already satisfied: protobuf!=4.21.0,!=4.21.1,!=4.21.2,!=4.21.3,!=4.21.4,!=4.21.5,<5.0.0dev,>=3.20.3 in c:\\users\\asus\\appdata\\local\\programs\\python\\python312\\lib\\site-packages (from tensorflow-intel==2.16.2->tensorflow) (4.25.3)\n",
            "Requirement already satisfied: requests<3,>=2.21.0 in c:\\users\\asus\\appdata\\local\\programs\\python\\python312\\lib\\site-packages (from tensorflow-intel==2.16.2->tensorflow) (2.32.3)\n",
            "Requirement already satisfied: setuptools in c:\\users\\asus\\appdata\\local\\programs\\python\\python312\\lib\\site-packages (from tensorflow-intel==2.16.2->tensorflow) (70.2.0)\n",
            "Requirement already satisfied: six>=1.12.0 in c:\\users\\asus\\appdata\\local\\programs\\python\\python312\\lib\\site-packages (from tensorflow-intel==2.16.2->tensorflow) (1.16.0)\n",
            "Requirement already satisfied: termcolor>=1.1.0 in c:\\users\\asus\\appdata\\local\\programs\\python\\python312\\lib\\site-packages (from tensorflow-intel==2.16.2->tensorflow) (2.4.0)\n",
            "Requirement already satisfied: typing-extensions>=3.6.6 in c:\\users\\asus\\appdata\\local\\programs\\python\\python312\\lib\\site-packages (from tensorflow-intel==2.16.2->tensorflow) (4.12.2)\n",
            "Requirement already satisfied: wrapt>=1.11.0 in c:\\users\\asus\\appdata\\local\\programs\\python\\python312\\lib\\site-packages (from tensorflow-intel==2.16.2->tensorflow) (1.16.0)\n",
            "Requirement already satisfied: grpcio<2.0,>=1.24.3 in c:\\users\\asus\\appdata\\local\\programs\\python\\python312\\lib\\site-packages (from tensorflow-intel==2.16.2->tensorflow) (1.64.1)\n",
            "Requirement already satisfied: tensorboard<2.17,>=2.16 in c:\\users\\asus\\appdata\\local\\programs\\python\\python312\\lib\\site-packages (from tensorflow-intel==2.16.2->tensorflow) (2.16.2)\n",
            "Requirement already satisfied: rich in c:\\users\\asus\\appdata\\local\\programs\\python\\python312\\lib\\site-packages (from keras) (13.7.1)\n",
            "Requirement already satisfied: namex in c:\\users\\asus\\appdata\\local\\programs\\python\\python312\\lib\\site-packages (from keras) (0.0.8)\n",
            "Requirement already satisfied: optree in c:\\users\\asus\\appdata\\local\\programs\\python\\python312\\lib\\site-packages (from keras) (0.12.1)\n",
            "Requirement already satisfied: contourpy>=1.0.1 in c:\\users\\asus\\appdata\\local\\programs\\python\\python312\\lib\\site-packages (from matplotlib) (1.2.1)\n",
            "Requirement already satisfied: cycler>=0.10 in c:\\users\\asus\\appdata\\local\\programs\\python\\python312\\lib\\site-packages (from matplotlib) (0.12.1)\n",
            "Requirement already satisfied: fonttools>=4.22.0 in c:\\users\\asus\\appdata\\local\\programs\\python\\python312\\lib\\site-packages (from matplotlib) (4.53.1)\n",
            "Requirement already satisfied: kiwisolver>=1.3.1 in c:\\users\\asus\\appdata\\local\\programs\\python\\python312\\lib\\site-packages (from matplotlib) (1.4.5)\n",
            "Requirement already satisfied: pyparsing>=2.3.1 in c:\\users\\asus\\appdata\\local\\programs\\python\\python312\\lib\\site-packages (from matplotlib) (3.1.2)\n",
            "Requirement already satisfied: python-dateutil>=2.7 in c:\\users\\asus\\appdata\\local\\programs\\python\\python312\\lib\\site-packages (from matplotlib) (2.9.0.post0)\n",
            "Requirement already satisfied: markdown-it-py>=2.2.0 in c:\\users\\asus\\appdata\\local\\programs\\python\\python312\\lib\\site-packages (from rich->keras) (3.0.0)\n",
            "Requirement already satisfied: pygments<3.0.0,>=2.13.0 in c:\\users\\asus\\appdata\\local\\programs\\python\\python312\\lib\\site-packages (from rich->keras) (2.18.0)\n",
            "Requirement already satisfied: wheel<1.0,>=0.23.0 in c:\\users\\asus\\appdata\\local\\programs\\python\\python312\\lib\\site-packages (from astunparse>=1.6.0->tensorflow-intel==2.16.2->tensorflow) (0.43.0)\n",
            "Requirement already satisfied: mdurl~=0.1 in c:\\users\\asus\\appdata\\local\\programs\\python\\python312\\lib\\site-packages (from markdown-it-py>=2.2.0->rich->keras) (0.1.2)\n",
            "Requirement already satisfied: charset-normalizer<4,>=2 in c:\\users\\asus\\appdata\\local\\programs\\python\\python312\\lib\\site-packages (from requests<3,>=2.21.0->tensorflow-intel==2.16.2->tensorflow) (3.3.2)\n",
            "Requirement already satisfied: idna<4,>=2.5 in c:\\users\\asus\\appdata\\local\\programs\\python\\python312\\lib\\site-packages (from requests<3,>=2.21.0->tensorflow-intel==2.16.2->tensorflow) (3.7)\n",
            "Requirement already satisfied: urllib3<3,>=1.21.1 in c:\\users\\asus\\appdata\\local\\programs\\python\\python312\\lib\\site-packages (from requests<3,>=2.21.0->tensorflow-intel==2.16.2->tensorflow) (2.2.2)\n",
            "Requirement already satisfied: certifi>=2017.4.17 in c:\\users\\asus\\appdata\\local\\programs\\python\\python312\\lib\\site-packages (from requests<3,>=2.21.0->tensorflow-intel==2.16.2->tensorflow) (2024.7.4)\n",
            "Requirement already satisfied: markdown>=2.6.8 in c:\\users\\asus\\appdata\\local\\programs\\python\\python312\\lib\\site-packages (from tensorboard<2.17,>=2.16->tensorflow-intel==2.16.2->tensorflow) (3.6)\n",
            "Requirement already satisfied: tensorboard-data-server<0.8.0,>=0.7.0 in c:\\users\\asus\\appdata\\local\\programs\\python\\python312\\lib\\site-packages (from tensorboard<2.17,>=2.16->tensorflow-intel==2.16.2->tensorflow) (0.7.2)\n",
            "Requirement already satisfied: werkzeug>=1.0.1 in c:\\users\\asus\\appdata\\local\\programs\\python\\python312\\lib\\site-packages (from tensorboard<2.17,>=2.16->tensorflow-intel==2.16.2->tensorflow) (3.0.3)\n",
            "Requirement already satisfied: MarkupSafe>=2.1.1 in c:\\users\\asus\\appdata\\local\\programs\\python\\python312\\lib\\site-packages (from werkzeug>=1.0.1->tensorboard<2.17,>=2.16->tensorflow-intel==2.16.2->tensorflow) (2.1.5)\n",
            "Requirement already satisfied: ultralytics in c:\\users\\asus\\appdata\\roaming\\python\\python312\\site-packages (8.2.52)\n",
            "Requirement already satisfied: numpy<2.0.0,>=1.23.0 in c:\\users\\asus\\appdata\\local\\programs\\python\\python312\\lib\\site-packages (from ultralytics) (1.26.4)\n",
            "Requirement already satisfied: matplotlib>=3.3.0 in c:\\users\\asus\\appdata\\local\\programs\\python\\python312\\lib\\site-packages (from ultralytics) (3.9.1)\n",
            "Requirement already satisfied: opencv-python>=4.6.0 in c:\\users\\asus\\appdata\\roaming\\python\\python312\\site-packages (from ultralytics) (4.10.0.84)\n",
            "Requirement already satisfied: pillow>=7.1.2 in c:\\users\\asus\\appdata\\local\\programs\\python\\python312\\lib\\site-packages (from ultralytics) (10.4.0)\n",
            "Requirement already satisfied: pyyaml>=5.3.1 in c:\\users\\asus\\appdata\\local\\programs\\python\\python312\\lib\\site-packages (from ultralytics) (6.0.1)\n",
            "Requirement already satisfied: requests>=2.23.0 in c:\\users\\asus\\appdata\\local\\programs\\python\\python312\\lib\\site-packages (from ultralytics) (2.32.3)\n",
            "Requirement already satisfied: scipy>=1.4.1 in c:\\users\\asus\\appdata\\local\\programs\\python\\python312\\lib\\site-packages (from ultralytics) (1.14.0)\n",
            "Requirement already satisfied: torch>=1.8.0 in c:\\users\\asus\\appdata\\local\\programs\\python\\python312\\lib\\site-packages (from ultralytics) (2.3.1)\n",
            "Requirement already satisfied: torchvision>=0.9.0 in c:\\users\\asus\\appdata\\local\\programs\\python\\python312\\lib\\site-packages (from ultralytics) (0.18.1)\n",
            "Requirement already satisfied: tqdm>=4.64.0 in c:\\users\\asus\\appdata\\local\\programs\\python\\python312\\lib\\site-packages (from ultralytics) (4.66.4)\n",
            "Requirement already satisfied: psutil in c:\\users\\asus\\appdata\\roaming\\python\\python312\\site-packages (from ultralytics) (6.0.0)\n",
            "Requirement already satisfied: py-cpuinfo in c:\\users\\asus\\appdata\\local\\programs\\python\\python312\\lib\\site-packages (from ultralytics) (9.0.0)\n",
            "Requirement already satisfied: pandas>=1.1.4 in c:\\users\\asus\\appdata\\local\\programs\\python\\python312\\lib\\site-packages (from ultralytics) (2.2.2)\n",
            "Requirement already satisfied: seaborn>=0.11.0 in c:\\users\\asus\\appdata\\roaming\\python\\python312\\site-packages (from ultralytics) (0.13.2)\n",
            "Requirement already satisfied: ultralytics-thop>=2.0.0 in c:\\users\\asus\\appdata\\roaming\\python\\python312\\site-packages (from ultralytics) (2.0.0)\n",
            "Requirement already satisfied: contourpy>=1.0.1 in c:\\users\\asus\\appdata\\local\\programs\\python\\python312\\lib\\site-packages (from matplotlib>=3.3.0->ultralytics) (1.2.1)\n",
            "Requirement already satisfied: cycler>=0.10 in c:\\users\\asus\\appdata\\local\\programs\\python\\python312\\lib\\site-packages (from matplotlib>=3.3.0->ultralytics) (0.12.1)\n",
            "Requirement already satisfied: fonttools>=4.22.0 in c:\\users\\asus\\appdata\\local\\programs\\python\\python312\\lib\\site-packages (from matplotlib>=3.3.0->ultralytics) (4.53.1)\n",
            "Requirement already satisfied: kiwisolver>=1.3.1 in c:\\users\\asus\\appdata\\local\\programs\\python\\python312\\lib\\site-packages (from matplotlib>=3.3.0->ultralytics) (1.4.5)\n",
            "Requirement already satisfied: packaging>=20.0 in c:\\users\\asus\\appdata\\local\\programs\\python\\python312\\lib\\site-packages (from matplotlib>=3.3.0->ultralytics) (24.1)\n",
            "Requirement already satisfied: pyparsing>=2.3.1 in c:\\users\\asus\\appdata\\local\\programs\\python\\python312\\lib\\site-packages (from matplotlib>=3.3.0->ultralytics) (3.1.2)\n",
            "Requirement already satisfied: python-dateutil>=2.7 in c:\\users\\asus\\appdata\\local\\programs\\python\\python312\\lib\\site-packages (from matplotlib>=3.3.0->ultralytics) (2.9.0.post0)\n",
            "Requirement already satisfied: pytz>=2020.1 in c:\\users\\asus\\appdata\\local\\programs\\python\\python312\\lib\\site-packages (from pandas>=1.1.4->ultralytics) (2024.1)\n",
            "Requirement already satisfied: tzdata>=2022.7 in c:\\users\\asus\\appdata\\local\\programs\\python\\python312\\lib\\site-packages (from pandas>=1.1.4->ultralytics) (2024.1)\n",
            "Requirement already satisfied: charset-normalizer<4,>=2 in c:\\users\\asus\\appdata\\local\\programs\\python\\python312\\lib\\site-packages (from requests>=2.23.0->ultralytics) (3.3.2)\n",
            "Requirement already satisfied: idna<4,>=2.5 in c:\\users\\asus\\appdata\\local\\programs\\python\\python312\\lib\\site-packages (from requests>=2.23.0->ultralytics) (3.7)\n",
            "Requirement already satisfied: urllib3<3,>=1.21.1 in c:\\users\\asus\\appdata\\local\\programs\\python\\python312\\lib\\site-packages (from requests>=2.23.0->ultralytics) (2.2.2)\n",
            "Requirement already satisfied: certifi>=2017.4.17 in c:\\users\\asus\\appdata\\local\\programs\\python\\python312\\lib\\site-packages (from requests>=2.23.0->ultralytics) (2024.7.4)\n",
            "Requirement already satisfied: filelock in c:\\users\\asus\\appdata\\local\\programs\\python\\python312\\lib\\site-packages (from torch>=1.8.0->ultralytics) (3.15.4)\n",
            "Requirement already satisfied: typing-extensions>=4.8.0 in c:\\users\\asus\\appdata\\local\\programs\\python\\python312\\lib\\site-packages (from torch>=1.8.0->ultralytics) (4.12.2)\n",
            "Requirement already satisfied: sympy in c:\\users\\asus\\appdata\\local\\programs\\python\\python312\\lib\\site-packages (from torch>=1.8.0->ultralytics) (1.13.0)\n",
            "Requirement already satisfied: networkx in c:\\users\\asus\\appdata\\local\\programs\\python\\python312\\lib\\site-packages (from torch>=1.8.0->ultralytics) (3.3)\n",
            "Requirement already satisfied: jinja2 in c:\\users\\asus\\appdata\\local\\programs\\python\\python312\\lib\\site-packages (from torch>=1.8.0->ultralytics) (3.1.4)\n",
            "Requirement already satisfied: fsspec in c:\\users\\asus\\appdata\\local\\programs\\python\\python312\\lib\\site-packages (from torch>=1.8.0->ultralytics) (2024.6.1)\n",
            "Requirement already satisfied: mkl<=2021.4.0,>=2021.1.1 in c:\\users\\asus\\appdata\\local\\programs\\python\\python312\\lib\\site-packages (from torch>=1.8.0->ultralytics) (2021.4.0)\n",
            "Requirement already satisfied: colorama in c:\\users\\asus\\appdata\\roaming\\python\\python312\\site-packages (from tqdm>=4.64.0->ultralytics) (0.4.6)\n",
            "Requirement already satisfied: intel-openmp==2021.* in c:\\users\\asus\\appdata\\local\\programs\\python\\python312\\lib\\site-packages (from mkl<=2021.4.0,>=2021.1.1->torch>=1.8.0->ultralytics) (2021.4.0)\n",
            "Requirement already satisfied: tbb==2021.* in c:\\users\\asus\\appdata\\local\\programs\\python\\python312\\lib\\site-packages (from mkl<=2021.4.0,>=2021.1.1->torch>=1.8.0->ultralytics) (2021.13.0)\n",
            "Requirement already satisfied: six>=1.5 in c:\\users\\asus\\appdata\\local\\programs\\python\\python312\\lib\\site-packages (from python-dateutil>=2.7->matplotlib>=3.3.0->ultralytics) (1.16.0)\n",
            "Requirement already satisfied: MarkupSafe>=2.0 in c:\\users\\asus\\appdata\\local\\programs\\python\\python312\\lib\\site-packages (from jinja2->torch>=1.8.0->ultralytics) (2.1.5)\n",
            "Requirement already satisfied: mpmath<1.4,>=1.1.0 in c:\\users\\asus\\appdata\\local\\programs\\python\\python312\\lib\\site-packages (from sympy->torch>=1.8.0->ultralytics) (1.3.0)\n",
            "Note: you may need to restart the kernel to use updated packages.\n"
          ]
        },
        {
          "name": "stderr",
          "output_type": "stream",
          "text": [
            "\n",
            "[notice] A new release of pip is available: 24.0 -> 24.1.1\n",
            "[notice] To update, run: python.exe -m pip install --upgrade pip\n"
          ]
        }
      ],
      "source": [
        "%pip install --user tensorflow keras pillow opencv-python-headless numpy matplotlib\n",
        "%pip install --user ultralytics\n"
      ]
    },
    {
      "cell_type": "markdown",
      "metadata": {},
      "source": [
        "# Traffic Density Classification Visualisation and Validation\n",
        "\n",
        "\n",
        "1. **Import Libraries**: Import necessary libraries for deep learning, image processing, and GUI creation.\n",
        "2. **Load Model**: Load the trained CNN model for traffic density classification.\n",
        "3. **Load YOLO Model**: Load the YOLOv8 model for object detection.\n",
        "4. **Class Labels**: Define the labels for the classes that the CNN model can predict.\n",
        "5. **Preprocess Input Image**: Preprocess the input image for the CNN model by resizing and normalizing it.\n",
        "6. **Upload and Process Image**: Open a file dialog to select an image, display it, and call the process_image function.\n",
        "7. **Process Image**: \n",
        "   - Preprocess the input image.\n",
        "   - Predict the class of the image using the CNN model.\n",
        "   - Use the YOLO model to detect objects in the image.\n",
        "   - Draw bounding boxes around detected vehicles and add labels with class names and confidence scores.\n",
        "   - Count the number of detected vehicles and categorize them.\n",
        "   - Display the processed image with bounding boxes in the Tkinter window.\n",
        "   - Update the classification and detection results in the Tkinter window.\n",
        "\n",
        "## GUI Part\n",
        "\n",
        "1. **Tkinter Window**:\n",
        "   - Create a Tkinter window.\n",
        "   - Set the window title and size.\n",
        "   - Set the background color to royal blue.\n",
        "2. **Styles**:\n",
        "   - Configure styles for frame, label, and button widgets.\n",
        "   - Set background and foreground colors, fonts, and padding for a cohesive look.\n",
        "3. **Heading**:\n",
        "   - Create a heading label with specified text, font, background color, and foreground color.\n",
        "   - Add padding for better spacing.\n",
        "4. **Upload Button**:\n",
        "   - Create an upload button with specified text and command to be executed when clicked.\n",
        "   - Add padding for better spacing.\n",
        "5. **Frame**:\n",
        "   - Create a frame to contain the image and result labels.\n",
        "   - Add padding for better spacing.\n",
        "6. **Image Label**:\n",
        "   - Create a label to display the uploaded and processed image.\n",
        "   - Position it within the frame.\n",
        "7. **Classification Result**:\n",
        "   - Create a label to display the classification result.\n",
        "   - Position it within the frame.\n",
        "8. **Detection Result**:\n",
        "   - Create a label to display the number of detected vehicles.\n",
        "   - Position it within the frame.\n",
        "9. **Vehicle Categories**:\n",
        "   - Create a label to display the categories of detected vehicles.\n",
        "   - Position it within the frame.\n",
        "10. **Event Loop**:\n",
        "    - Start the Tkinter event loop to keep the window open and responsive.\n"
      ]
    },
    {
      "cell_type": "code",
      "execution_count": 1,
      "metadata": {},
      "outputs": [],
      "source": [
        "import tkinter as tk\n",
        "from tkinter import ttk, filedialog\n",
        "from PIL import Image, ImageTk\n",
        "import tensorflow as tf\n",
        "import numpy as np\n",
        "import cv2\n",
        "from ultralytics import YOLO\n",
        "\n",
        "# Load the trained CNN model\n",
        "model = tf.keras.models.load_model('traffic_density_cnn_model.keras')\n",
        "\n",
        "# Load YOLOv8 model\n",
        "yolo_model = YOLO('yolov8n.pt')\n",
        "\n",
        "# Define class labels\n",
        "classes = ['Empty', 'High', 'Low', 'Medium', 'Traffic Jam']\n",
        "\n",
        "# Function to preprocess the image for the CNN model\n",
        "def preprocess_input_image(image_path, target_size=(224, 224)):\n",
        "    img = Image.open(image_path)\n",
        "    img = img.resize(target_size)\n",
        "    img = np.array(img) / 255.0\n",
        "    return img\n",
        "\n",
        "# Function to handle image upload and perform classification and detection\n",
        "def upload_and_process_image():\n",
        "    file_path = filedialog.askopenfilename()\n",
        "    if file_path:\n",
        "        # Display uploaded image\n",
        "        img = Image.open(file_path)\n",
        "        img_resized = img.resize((400, 400))\n",
        "        img_tk = ImageTk.PhotoImage(img_resized)\n",
        "        image_label.config(image=img_tk)\n",
        "        image_label.image = img_tk\n",
        "\n",
        "        # Process image with the model\n",
        "        process_image(file_path)\n",
        "\n",
        "# Function to process image, classify and detect objects\n",
        "def process_image(image_path):\n",
        "    # Preprocess the input image\n",
        "    input_image = preprocess_input_image(image_path)\n",
        "    input_image_batch = np.expand_dims(input_image, axis=0)\n",
        "    \n",
        "    # Predict the class of the image using the CNN model\n",
        "    predictions = model.predict(input_image_batch)\n",
        "    class_idx = np.argmax(predictions, axis=1)[0]\n",
        "    class_confidence = predictions[0, class_idx]\n",
        "    predicted_class = classes[class_idx]\n",
        "    \n",
        "    # Perform vehicle detection using the YOLO model\n",
        "    image = cv2.imread(image_path)\n",
        "    results = yolo_model(image)\n",
        "    \n",
        "    # Count the number of vehicles detected and their categories\n",
        "    num_vehicles = 0\n",
        "    vehicle_counts = {}\n",
        "\n",
        "    for box in results[0].boxes:\n",
        "        num_vehicles += 1\n",
        "        coords = box.xyxy[0].cpu().numpy().astype(int)\n",
        "        x1, y1, x2, y2 = coords\n",
        "        \n",
        "        # Draw bounding box on the image\n",
        "        cv2.rectangle(image, (x1, y1), (x2, y2), (0, 255, 0), 2)\n",
        "        \n",
        "        # Add class label and confidence\n",
        "        class_id = int(box.cls[0].item())\n",
        "        confidence = box.conf[0].item()\n",
        "        vehicle_type = yolo_model.names[class_id]\n",
        "        label = f'{vehicle_type} ({confidence:.2f})'\n",
        "        cv2.putText(image, label, (x1, y1 - 10), cv2.FONT_HERSHEY_SIMPLEX, 0.5, (0, 255, 0), 1)\n",
        "        \n",
        "        if vehicle_type in vehicle_counts:\n",
        "            vehicle_counts[vehicle_type] += 1\n",
        "        else:\n",
        "            vehicle_counts[vehicle_type] = 1\n",
        "    \n",
        "    # Add vehicle count text on the image\n",
        "    count_text = f\"Vehicle count: {num_vehicles}\"\n",
        "    cv2.putText(image, count_text, (10, 20), cv2.FONT_HERSHEY_SIMPLEX, 0.5, (0, 255, 0), 1)\n",
        "    \n",
        "    # Convert BGR image to RGB and display on Tkinter window\n",
        "    image_rgb = cv2.cvtColor(image, cv2.COLOR_BGR2RGB)\n",
        "    img_pil = Image.fromarray(image_rgb)\n",
        "    img_tk = ImageTk.PhotoImage(img_pil)\n",
        "    image_label.config(image=img_tk)\n",
        "    image_label.image = img_tk\n",
        "    \n",
        "    # Update the classification and detection results\n",
        "    classification_result.config(text=f'Classification: {predicted_class} (Confidence: {class_confidence:.2f})')\n",
        "    detection_result.config(text=f'Number of vehicles: {num_vehicles}')\n",
        "    \n",
        "    # Format vehicle categories\n",
        "    vehicle_category_text = \", \".join([f\"{count} {vehicle}\" for vehicle, count in vehicle_counts.items()])\n",
        "    category_result.config(text=f'Vehicle categories: {vehicle_category_text}')\n",
        "\n",
        "# Set up Tkinter window\n",
        "window = tk.Tk()\n",
        "window.title(\"Traffic Density Classification\")\n",
        "window.geometry(\"1000x800\")\n",
        "window.configure(bg='#4169e1')  # Royal blue background\n",
        "\n",
        "# Set up styles\n",
        "style = ttk.Style()\n",
        "style.configure('TFrame', background='#4169e1')\n",
        "style.configure('TLabel', background='#4169e1', foreground='#ffffff', font=('Helvetica', 14))  # White text\n",
        "style.configure('TButton', background='#4169e1', foreground='#4169e1', font=('Helvetica', 14), padding=10)  # Royal blue button with royal blue text\n",
        "style.map('TButton', background=[('active', '#1976d2')], foreground=[('active', '#ffffff')])\n",
        "\n",
        "# Add heading\n",
        "heading = ttk.Label(window, text=\"Traffic Density Classification\", font=(\"Helvetica\", 24, 'bold'), background='#4169e1', foreground='#ffffff')\n",
        "heading.pack(pady=20)\n",
        "\n",
        "# Add upload button\n",
        "upload_btn = ttk.Button(window, text=\"Upload Image\", command=upload_and_process_image)\n",
        "upload_btn.pack(pady=20)\n",
        "\n",
        "# Add frame for image and results\n",
        "frame = ttk.Frame(window)\n",
        "frame.pack(pady=20)\n",
        "\n",
        "# Add label to display the uploaded image\n",
        "image_label = ttk.Label(frame)\n",
        "image_label.grid(row=0, column=0, rowspan=3, padx=20)\n",
        "\n",
        "# Add label to display classification result\n",
        "classification_result = ttk.Label(frame, text=\"Classification: \")\n",
        "classification_result.grid(row=0, column=1, sticky='nw')\n",
        "\n",
        "# Add label to display detection result\n",
        "detection_result = ttk.Label(frame, text=\"Number of vehicles: \")\n",
        "detection_result.grid(row=1, column=1, sticky='nw')\n",
        "\n",
        "# Add label to display vehicle categories\n",
        "category_result = ttk.Label(frame, text=\"Vehicle categories: \")\n",
        "category_result.grid(row=2, column=1, sticky='nw')\n",
        "\n"
      ]
    },
    {
      "cell_type": "code",
      "execution_count": 2,
      "metadata": {},
      "outputs": [
        {
          "name": "stdout",
          "output_type": "stream",
          "text": [
            "\u001b[1m1/1\u001b[0m \u001b[32m━━━━━━━━━━━━━━━━━━━━\u001b[0m\u001b[37m\u001b[0m \u001b[1m1s\u001b[0m 521ms/step\n",
            "\n",
            "0: 480x640 (no detections), 573.3ms\n",
            "Speed: 52.2ms preprocess, 573.3ms inference, 78.6ms postprocess per image at shape (1, 3, 480, 640)\n",
            "\u001b[1m1/1\u001b[0m \u001b[32m━━━━━━━━━━━━━━━━━━━━\u001b[0m\u001b[37m\u001b[0m \u001b[1m0s\u001b[0m 155ms/step\n",
            "\n",
            "0: 480x640 16 cars, 1 truck, 290.4ms\n",
            "Speed: 4.0ms preprocess, 290.4ms inference, 17.7ms postprocess per image at shape (1, 3, 480, 640)\n",
            "\u001b[1m1/1\u001b[0m \u001b[32m━━━━━━━━━━━━━━━━━━━━\u001b[0m\u001b[37m\u001b[0m \u001b[1m0s\u001b[0m 56ms/step\n",
            "\n",
            "0: 480x640 8 cars, 321.2ms\n",
            "Speed: 9.2ms preprocess, 321.2ms inference, 3.5ms postprocess per image at shape (1, 3, 480, 640)\n",
            "\u001b[1m1/1\u001b[0m \u001b[32m━━━━━━━━━━━━━━━━━━━━\u001b[0m\u001b[37m\u001b[0m \u001b[1m0s\u001b[0m 53ms/step\n",
            "\n",
            "0: 480x640 1 bicycle, 12 cars, 272.2ms\n",
            "Speed: 7.7ms preprocess, 272.2ms inference, 3.5ms postprocess per image at shape (1, 3, 480, 640)\n",
            "\u001b[1m1/1\u001b[0m \u001b[32m━━━━━━━━━━━━━━━━━━━━\u001b[0m\u001b[37m\u001b[0m \u001b[1m0s\u001b[0m 70ms/step\n",
            "\n",
            "0: 480x640 6 cars, 1 bus, 2 trucks, 290.0ms\n",
            "Speed: 9.1ms preprocess, 290.0ms inference, 0.0ms postprocess per image at shape (1, 3, 480, 640)\n",
            "\u001b[1m1/1\u001b[0m \u001b[32m━━━━━━━━━━━━━━━━━━━━\u001b[0m\u001b[37m\u001b[0m \u001b[1m0s\u001b[0m 52ms/step\n",
            "\n",
            "0: 480x640 6 cars, 1 bus, 2 trucks, 281.0ms\n",
            "Speed: 8.7ms preprocess, 281.0ms inference, 0.0ms postprocess per image at shape (1, 3, 480, 640)\n",
            "\u001b[1m1/1\u001b[0m \u001b[32m━━━━━━━━━━━━━━━━━━━━\u001b[0m\u001b[37m\u001b[0m \u001b[1m0s\u001b[0m 54ms/step\n",
            "\n",
            "0: 448x640 2 persons, 36 cars, 1 motorcycle, 3 buss, 5 trucks, 268.3ms\n",
            "Speed: 8.0ms preprocess, 268.3ms inference, 7.0ms postprocess per image at shape (1, 3, 448, 640)\n",
            "\u001b[1m1/1\u001b[0m \u001b[32m━━━━━━━━━━━━━━━━━━━━\u001b[0m\u001b[37m\u001b[0m \u001b[1m0s\u001b[0m 74ms/step\n",
            "\n",
            "0: 384x640 12 cars, 1 truck, 246.1ms\n",
            "Speed: 0.0ms preprocess, 246.1ms inference, 4.8ms postprocess per image at shape (1, 3, 384, 640)\n"
          ]
        }
      ],
      "source": [
        "# Run the Tkinter event loop\n",
        "window.mainloop()"
      ]
    },
    {
      "cell_type": "markdown",
      "metadata": {},
      "source": [
        "# Results\n",
        "\n",
        "![1](1.png)\n",
        "\n",
        "![1](2.png)\n",
        "\n",
        "![1](3.png)\n",
        "\n",
        "![1](4.png)\n",
        "\n",
        "![1](5.png)\n",
        "\n",
        "![1](6.png)"
      ]
    },
    {
      "cell_type": "markdown",
      "metadata": {},
      "source": [
        "# Project Title - Traffic Density Classification\n",
        "\n",
        "**Author:** Ananya Singh  \n",
        "**Specialization:** AI and ML  \n",
        "**Semester:** 7th  \n",
        "**Bootcamp:** Cognition 3.0 Machine Learning Bootcamp, Week 5\n",
        "\n",
        "**Date:** July 10, 2024\n"
      ]
    },
    {
      "cell_type": "markdown",
      "metadata": {},
      "source": []
    }
  ],
  "metadata": {
    "colab": {
      "provenance": []
    },
    "kernelspec": {
      "display_name": "Python 3",
      "name": "python3"
    },
    "language_info": {
      "name": "python"
    }
  },
  "nbformat": 4,
  "nbformat_minor": 0
}
